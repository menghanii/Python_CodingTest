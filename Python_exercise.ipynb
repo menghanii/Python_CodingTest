{
 "cells": [
  {
   "cell_type": "code",
   "execution_count": 1,
   "metadata": {},
   "outputs": [],
   "source": [
    "bag = [[\"라이터\", \"골프채\", \"면도기\"],\n",
    "      [\"휴지\",\"카메라\",\"김치\"],\n",
    "      [\"노트북\", \"자전거\", \"접이식 칼\"]]\n",
    "forbid = [\"김치\", \"골프채\", \"접이식 칼\", \"총\", \"자전거\"]"
   ]
  },
  {
   "cell_type": "code",
   "execution_count": 2,
   "metadata": {},
   "outputs": [
    {
     "name": "stdout",
     "output_type": "stream",
     "text": [
      "라이터 면도기 \n",
      "휴지 카메라 \n",
      "노트북 \n"
     ]
    }
   ],
   "source": [
    "# Q. 가방에 있는 물건 중, forbid(금지물품)에 있는 물품을 제외한 물건을, 리스트 별로 줄 맞춰서 출력하시오.\n",
    "# A.\n",
    "\n",
    "for row in bag:\n",
    "    for item in row:\n",
    "        if item in forbid:\n",
    "            continue # 금지 물품에 해당된다면, 종속된 for문으로 올라감.\n",
    "        else:        # 금지 물품이 아닌 경우, 해당 아이템(들)을 띄어쓰기 하여 출력.\n",
    "            print(item, end=' ')\n",
    "    else:            # 제일 중요! indentation. for/else 구문으로, 한 row에 더 이상 할당할 값이 없으면 else 구문으로 가서 개행함.\n",
    "        print()"
   ]
  }
 ],
 "metadata": {
  "kernelspec": {
   "display_name": "Python 3",
   "language": "python",
   "name": "python3"
  },
  "language_info": {
   "codemirror_mode": {
    "name": "ipython",
    "version": 3
   },
   "file_extension": ".py",
   "mimetype": "text/x-python",
   "name": "python",
   "nbconvert_exporter": "python",
   "pygments_lexer": "ipython3",
   "version": "3.7.4"
  }
 },
 "nbformat": 4,
 "nbformat_minor": 2
}
