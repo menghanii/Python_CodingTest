{
 "cells": [
  {
   "cell_type": "code",
   "execution_count": 2,
   "metadata": {},
   "outputs": [
    {
     "name": "stdout",
     "output_type": "stream",
     "text": [
      "5\n",
      "1 2 3 4\n",
      "1 4\n"
     ]
    }
   ],
   "source": [
    "# 10818번 문제\n",
    "\n",
    "N = int(input())\n",
    "\n",
    "test_set = list(map(int, input().split()))\n",
    "print(min(test_set),max(test_set))"
   ]
  },
  {
   "cell_type": "code",
   "execution_count": 10,
   "metadata": {},
   "outputs": [
    {
     "name": "stdout",
     "output_type": "stream",
     "text": [
      "1\n",
      "2\n",
      "3\n",
      "4\n",
      "5\n",
      "6\n",
      "7\n",
      "8\n",
      "9\n",
      "9\n",
      "9\n"
     ]
    }
   ],
   "source": [
    "# 2562번 문제\n",
    "num_list = []\n",
    "for i in range(9):\n",
    "    num = int(input())\n",
    "    num_list.append(num)\n",
    "\n",
    "print(max(num_list))\n",
    "print(num_list.index(max(num_list)) + 1)\n",
    "    \n"
   ]
  },
  {
   "cell_type": "code",
   "execution_count": 13,
   "metadata": {},
   "outputs": [
    {
     "name": "stdout",
     "output_type": "stream",
     "text": [
      "1 3 2 4 5 6 7 8\n",
      "mixed\n"
     ]
    }
   ],
   "source": [
    "# 2920번 문제\n",
    "\n",
    "melody = list(map(int, input().split()))\n",
    "if melody[0:8] == [1, 2, 3, 4, 5, 6, 7, 8]:\n",
    "    print(\"ascending\")\n",
    "elif melody[0:8] == [8, 7, 6, 5, 4, 3, 2, 1]:\n",
    "    print(\"descending\")\n",
    "else:\n",
    "    print(\"mixed\")"
   ]
  },
  {
   "cell_type": "code",
   "execution_count": null,
   "metadata": {},
   "outputs": [],
   "source": [
    "# 2577번 문제\n",
    "\n",
    "num_list = []\n",
    "\n",
    "for i in range(3):\n",
    "    num = int(input())\n",
    "    num_list.append(num)\n",
    "\n",
    "result = num_list[0] * num_list[1] * num_list[2]\n",
    "str_result = str(result)\n",
    "\n",
    "print()\n"
   ]
  },
  {
   "cell_type": "code",
   "execution_count": 15,
   "metadata": {},
   "outputs": [
    {
     "name": "stdout",
     "output_type": "stream",
     "text": [
      "123\n",
      "234\n",
      "345\n",
      "1\n",
      "0\n",
      "1\n",
      "0\n",
      "0\n",
      "0\n",
      "0\n",
      "1\n",
      "0\n",
      "4\n"
     ]
    }
   ],
   "source": [
    "# 2577번 문제\n",
    "\n",
    "num_list = []\n",
    "\n",
    "for i in range(3):\n",
    "    num = int(input())\n",
    "    num_list.append(num)\n",
    "\n",
    "result = num_list[0] * num_list[1] * num_list[2]\n",
    "str_result = str(result)\n",
    "\n",
    "print(str_result.count(\"0\"))\n",
    "print(str_result.count(\"1\"))\n",
    "print(str_result.count(\"2\"))\n",
    "print(str_result.count(\"3\"))\n",
    "print(str_result.count(\"4\"))\n",
    "print(str_result.count(\"5\"))\n",
    "print(str_result.count(\"6\"))\n",
    "print(str_result.count(\"7\"))\n",
    "print(str_result.count(\"8\"))\n",
    "print(str_result.count(\"9\"))"
   ]
  },
  {
   "cell_type": "code",
   "execution_count": 16,
   "metadata": {},
   "outputs": [
    {
     "name": "stdout",
     "output_type": "stream",
     "text": [
      "23\n",
      "23\n",
      "23\n",
      "23\n",
      "23\n",
      "23\n",
      "23\n",
      "23\n",
      "23\n",
      "23\n",
      "1\n"
     ]
    }
   ],
   "source": [
    "# 3052번 문제\n",
    "\n",
    "num_list = []\n",
    "res_list = []\n",
    "\n",
    "for i in range(10):\n",
    "    n = int(input())\n",
    "    num_list.append(n)\n",
    "    \n",
    "for j in num_list:\n",
    "    res = j % 42\n",
    "    res_list.append(res)\n",
    "\n",
    "res_set = set(res_list)\n",
    "print(len(res_set))"
   ]
  },
  {
   "cell_type": "code",
   "execution_count": 19,
   "metadata": {},
   "outputs": [
    {
     "name": "stdout",
     "output_type": "stream",
     "text": [
      "3\n",
      "10 20 30\n",
      "66.66666666666667\n"
     ]
    }
   ],
   "source": [
    "# 1546번 문제\n",
    "\n",
    "N = int(input())\n",
    "score = list(map(int,input().split()))\n",
    "score.sort()\n",
    "\n",
    "M = score[-1]\n",
    "new_score = []\n",
    "\n",
    "for i in range(N):\n",
    "    n = score[i] / M * 100\n",
    "    new_score.append(n)\n",
    "\n",
    "new_average = sum(new_score) / N\n",
    "print(new_average)    "
   ]
  },
  {
   "cell_type": "code",
   "execution_count": 39,
   "metadata": {
    "scrolled": true
   },
   "outputs": [
    {
     "name": "stdout",
     "output_type": "stream",
     "text": [
      "5\n",
      "OXOX\n",
      "2\n",
      "OOOXXX\n",
      "6\n",
      "OXOXOOO\n",
      "8\n",
      "OOXOXOXOXOO\n",
      "9\n",
      "OXOXOXXOOOOXXOOOOOOOOO\n",
      "58\n"
     ]
    }
   ],
   "source": [
    "# 8958번 문제\n",
    "\n",
    "N = int(input())\n",
    "for i in range(N):\n",
    "    score_result = 0\n",
    "    OX = input()\n",
    "    b = list(OX.split(\"X\"))\n",
    "    for i in b:\n",
    "        if i == '':\n",
    "            b.remove(i)\n",
    "\n",
    "    for j in range(1, len(OX)+1):\n",
    "        counter = b.count(\"O\" * j)\n",
    "        score = counter * (j+1) * j / 2\n",
    "        score_result += score\n",
    "\n",
    "    print(int(score_result))\n",
    "\n",
    "    \n",
    "    "
   ]
  },
  {
   "cell_type": "code",
   "execution_count": null,
   "metadata": {},
   "outputs": [],
   "source": [
    "# 4344번 문제\n",
    "\n",
    "C = int(input())\n",
    "\n",
    "for i in range(C):\n",
    "    counter = 0\n",
    "    N_score = list(map(int, input().split()))\n",
    "    N = N_score.pop(0)\n",
    "    average = sum(N_score) / N\n",
    "    \n",
    "    for j in N_score:\n",
    "        if j > average:\n",
    "            counter += 1\n",
    "    print(format(counter / len(N_score) * 100, \".3f\")+\"%\")"
   ]
  }
 ],
 "metadata": {
  "kernelspec": {
   "display_name": "Python 3",
   "language": "python",
   "name": "python3"
  },
  "language_info": {
   "codemirror_mode": {
    "name": "ipython",
    "version": 3
   },
   "file_extension": ".py",
   "mimetype": "text/x-python",
   "name": "python",
   "nbconvert_exporter": "python",
   "pygments_lexer": "ipython3",
   "version": "3.7.4"
  }
 },
 "nbformat": 4,
 "nbformat_minor": 2
}
