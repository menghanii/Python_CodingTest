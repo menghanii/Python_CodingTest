{
 "cells": [
  {
   "cell_type": "code",
   "execution_count": null,
   "metadata": {},
   "outputs": [],
   "source": [
    "# 아주 간단한 계산기\n",
    "a, b = map(int,input().split())\n",
    "\n",
    "print(a + b)\n",
    "print(a - b)\n",
    "print(a * b)\n",
    "print(int(a / b))"
   ]
  },
  {
   "cell_type": "code",
   "execution_count": null,
   "metadata": {},
   "outputs": [],
   "source": [
    "# 알파벳을 숫자로 변환\n",
    "string = input()\n",
    "\n",
    "Alphabet = ['A', 'B', 'C', 'D', 'E', 'F', 'G', 'H', 'I', 'J', 'K', 'L', 'M', 'N', 'O', 'P', 'Q', 'R', 'S', 'T', 'U', 'V', 'W', 'X', 'Y', 'Z']\n",
    "Num_list = list(range(1,27))\n",
    "\n",
    "for i in string:\n",
    "    for a, num in zip(Alphabet, Num_list):\n",
    "        if i == a:\n",
    "            print(num, end=' ')\n",
    "    "
   ]
  },
  {
   "cell_type": "code",
   "execution_count": null,
   "metadata": {},
   "outputs": [],
   "source": [
    "# 연월일 달력\n",
    "T = int(input())\n",
    "\n",
    "list_30 = [4, 6, 9, 11] # 30일짜리 월\n",
    "list_31 = [1, 3, 5, 7, 8, 10, 12] # 31일짜리 월\n",
    "for t in range(T):\n",
    "    case = input()\n",
    "    if int(case[4:6]) < 1 or int(case[4:6]) > 12: # 월이 1보다 작거나 12보다 크면\n",
    "        print(\"#\"+str(t+1), -1) # -1을 출력해라.\n",
    "    elif int(case[4:6]) == 2: # 2월이면\n",
    "        if int(case[6:8]) < 1 or int(case[6:8]) > 28: # 만약 날짜가 1보다 작거나 28보다 크면\n",
    "            print(\"#\"+str(t+1), -1) # -1을 출력해라.\n",
    "        else:\n",
    "            print(\"#\"+str(t+1),case[0:4]+\"/\"+case[4:6]+\"/\"+case[6:8]) # 아니면 YYYY/MM/DD 출력\n",
    "    elif int(case[4:6]) in list_30: # 30일 있는 월이면\n",
    "        if int(case[6:8]) < 1 or int(case[6:8]) > 30:\n",
    "            print(\"#\"+str(t+1), -1)\n",
    "        else:\n",
    "            print(\"#\"+str(t+1),case[0:4]+\"/\"+case[4:6]+\"/\"+case[6:8])\n",
    "    elif int(case[4:6]) in list_31: # 31일 있는 월이면\n",
    "        if int(case[6:8]) < 1 or int(case[6:8]) > 31:\n",
    "            print(\"#\"+str(t+1), -1)\n",
    "        else:\n",
    "            print(\"#\"+str(t+1),case[0:4]+\"/\"+case[4:6]+\"/\"+case[6:8])"
   ]
  },
  {
   "cell_type": "code",
   "execution_count": null,
   "metadata": {},
   "outputs": [],
   "source": [
    "# 자릿수 더하기\n",
    "N = input()\n",
    "sum = 0\n",
    "for i in range(len(N)): # N의 자릿수에 대하여\n",
    "    sum += int(N[i]) # 정수변환하여 sum에 추가 합\n",
    "print(sum)\n"
   ]
  },
  {
   "cell_type": "code",
   "execution_count": 5,
   "metadata": {},
   "outputs": [
    {
     "name": "stdout",
     "output_type": "stream",
     "text": [
      "1\n",
      "3 17 1 39 8 41 2 32 99 2\n",
      "#1 24\n"
     ]
    }
   ],
   "source": [
    "# 평균값 구하기\n",
    "\n",
    "T = int(input())\n",
    "\n",
    "for i in range(T):\n",
    "    case = list(map(int, input().split()))\n",
    "    print(\"#\"+str(i+1),int(round(sum(case) / len(case),0))) # 실수값 -> 반올림 후 정수화함\n",
    "    "
   ]
  },
  {
   "cell_type": "code",
   "execution_count": 3,
   "metadata": {},
   "outputs": [
    {
     "name": "stdout",
     "output_type": "stream",
     "text": [
      "3\n",
      "3 17 1 39 8 41 2 32 99 2\n",
      "#1 200\n",
      "3 17 1 39 8 41 2 32 99 2\n",
      "#2 200\n",
      "3 17 1 39 8 41 2 32 99 2\n",
      "#3 200\n"
     ]
    }
   ],
   "source": [
    "# 홀수만 더하기\n",
    "\n",
    "T = int(input())\n",
    "\n",
    "\n",
    "for i in range(T):\n",
    "    odd_list = []\n",
    "    case = list(map(int, input().split())) # split하여 숫자를 정수화하고 리스트로 만들어라.\n",
    "    for j in case: # 리스트의 j 에 대하여\n",
    "        if j % 2 == 1: # j가 2로 나눈 나머지가 1이면\n",
    "            odd_list.append(j) # odd_list에 추가하라.\n",
    "    \n",
    "    print(\"#\"+str(i+1),sum(odd_list)) # 홀수리스트 모두 더해라"
   ]
  },
  {
   "cell_type": "code",
   "execution_count": 5,
   "metadata": {},
   "outputs": [
    {
     "name": "stdout",
     "output_type": "stream",
     "text": [
      "323\n",
      "1 2 - 4 5 - 7 8 - 10 11 12 - 14 15 - 17 18 - 20 21 22 - 24 25 - 27 28 - - - - -- - - -- - - -- 40 41 42 - 44 45 - 47 48 - 50 51 52 - 54 55 - 57 58 - - - - -- - - -- - - -- 70 71 72 - 74 75 - 77 78 - 80 81 82 - 84 85 - 87 88 - - - - -- - - -- - - -- 100 101 102 - 104 105 - 107 108 - 110 111 112 - 114 115 - 117 118 - 120 121 122 - 124 125 - 127 128 - - - - -- - - -- - - -- 140 141 142 - 144 145 - 147 148 - 150 151 152 - 154 155 - 157 158 - - - - -- - - -- - - -- 170 171 172 - 174 175 - 177 178 - 180 181 182 - 184 185 - 187 188 - - - - -- - - -- - - -- 200 201 202 - 204 205 - 207 208 - 210 211 212 - 214 215 - 217 218 - 220 221 222 - 224 225 - 227 228 - - - - -- - - -- - - -- 240 241 242 - 244 245 - 247 248 - 250 251 252 - 254 255 - 257 258 - - - - -- - - -- - - -- 270 271 272 - 274 275 - 277 278 - 280 281 282 - 284 285 - 287 288 - - - - -- - - -- - - -- - - - -- - - -- - - -- - - - -- - - -- - - -- - - - -- "
     ]
    }
   ],
   "source": [
    "# 간단한 369게임\n",
    "\n",
    "N = int(input())\n",
    "lst = [] \n",
    "\n",
    "for i in range(1,N+1):# 1~N까지의 정수를 리스트에 추가하라.\n",
    "    lst.append(str(i))\n",
    "\n",
    "for j in range(len(lst)): # 만약 리스트의 각 원소에 3, 6, 9가 있다면 -로 대체해라.\n",
    "    if '3' or '6' or '9' in lst[j]:\n",
    "        lst[j] = lst[j].replace('3','-')\n",
    "        lst[j] = lst[j].replace('6','-')\n",
    "        lst[j] = lst[j].replace('9','-')\n",
    "        \n",
    "for k in lst: # '1-','2--'이런 경우 없애기 위해서\n",
    "    if '-' not in k: # 만약 -가 없다면 그냥 그 숫자 출력\n",
    "        print(k, end=' ')\n",
    "    else:\n",
    "        if '--' in k: # N은 1000까지의 정수. '1--','--2' 이런 것들 없애기 위해\n",
    "            print('--', end=' ')\n",
    "        else:\n",
    "            if k.count('-') == 2: # '-2-','-5-' 이런 것들 없애기 위해, k에 '-'가 몇개들었는지 카운트\n",
    "                print('--', end=' ')\n",
    "            else:\n",
    "                print('-', end=' ')            "
   ]
  }
 ],
 "metadata": {
  "kernelspec": {
   "display_name": "Python 3",
   "language": "python",
   "name": "python3"
  },
  "language_info": {
   "codemirror_mode": {
    "name": "ipython",
    "version": 3
   },
   "file_extension": ".py",
   "mimetype": "text/x-python",
   "name": "python",
   "nbconvert_exporter": "python",
   "pygments_lexer": "ipython3",
   "version": "3.7.4"
  }
 },
 "nbformat": 4,
 "nbformat_minor": 2
}
